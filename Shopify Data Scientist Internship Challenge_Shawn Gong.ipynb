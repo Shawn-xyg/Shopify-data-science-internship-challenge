{
 "cells": [
  {
   "cell_type": "markdown",
   "metadata": {},
   "source": [
    "# Shopify Data Scientist Internship Challenge _ Shawn Gong"
   ]
  },
  {
   "cell_type": "markdown",
   "metadata": {},
   "source": [
    "## Directory\n",
    "\n",
    "1. [Question 1 Analysis](#q1analysis)\n",
    "\n",
    "2. [Question 1 Answers](#q1answers)\n",
    "\n",
    "3. [Question 2 Answers](#q2answers)\n"
   ]
  },
  {
   "cell_type": "code",
   "execution_count": 1,
   "metadata": {},
   "outputs": [],
   "source": [
    "# Import packages\n",
    "import pandas as pd\n",
    "import numpy as np\n",
    "import matplotlib.pyplot as plt\n",
    "%matplotlib inline"
   ]
  },
  {
   "cell_type": "markdown",
   "metadata": {},
   "source": [
    "## Question 1 - Sneaker Store Revenue Analysis <a name=\"q1analysis\"></a>"
   ]
  },
  {
   "cell_type": "markdown",
   "metadata": {},
   "source": [
    "Preliminary EDA and Data Quality Assessment\n",
    "\n",
    "Objective: \n",
    "1. To get a rough idea about the dataset, the distribution of features and specific traits of the data that are potentially helpful for further analysis and insights extraction. \n",
    "2. To identify any outlier or any empty value and fix them before further analysis. \n",
    "3. Identify and fix data quality issues."
   ]
  },
  {
   "cell_type": "code",
   "execution_count": 2,
   "metadata": {},
   "outputs": [
    {
     "data": {
      "text/html": [
       "<div>\n",
       "<style scoped>\n",
       "    .dataframe tbody tr th:only-of-type {\n",
       "        vertical-align: middle;\n",
       "    }\n",
       "\n",
       "    .dataframe tbody tr th {\n",
       "        vertical-align: top;\n",
       "    }\n",
       "\n",
       "    .dataframe thead th {\n",
       "        text-align: right;\n",
       "    }\n",
       "</style>\n",
       "<table border=\"1\" class=\"dataframe\">\n",
       "  <thead>\n",
       "    <tr style=\"text-align: right;\">\n",
       "      <th></th>\n",
       "      <th>order_id</th>\n",
       "      <th>shop_id</th>\n",
       "      <th>user_id</th>\n",
       "      <th>order_amount</th>\n",
       "      <th>total_items</th>\n",
       "      <th>payment_method</th>\n",
       "      <th>created_at</th>\n",
       "    </tr>\n",
       "  </thead>\n",
       "  <tbody>\n",
       "    <tr>\n",
       "      <th>0</th>\n",
       "      <td>1</td>\n",
       "      <td>53</td>\n",
       "      <td>746</td>\n",
       "      <td>224</td>\n",
       "      <td>2</td>\n",
       "      <td>cash</td>\n",
       "      <td>2017-03-13 12:36:56</td>\n",
       "    </tr>\n",
       "    <tr>\n",
       "      <th>1</th>\n",
       "      <td>2</td>\n",
       "      <td>92</td>\n",
       "      <td>925</td>\n",
       "      <td>90</td>\n",
       "      <td>1</td>\n",
       "      <td>cash</td>\n",
       "      <td>2017-03-03 17:38:52</td>\n",
       "    </tr>\n",
       "    <tr>\n",
       "      <th>2</th>\n",
       "      <td>3</td>\n",
       "      <td>44</td>\n",
       "      <td>861</td>\n",
       "      <td>144</td>\n",
       "      <td>1</td>\n",
       "      <td>cash</td>\n",
       "      <td>2017-03-14 4:23:56</td>\n",
       "    </tr>\n",
       "    <tr>\n",
       "      <th>3</th>\n",
       "      <td>4</td>\n",
       "      <td>18</td>\n",
       "      <td>935</td>\n",
       "      <td>156</td>\n",
       "      <td>1</td>\n",
       "      <td>credit_card</td>\n",
       "      <td>2017-03-26 12:43:37</td>\n",
       "    </tr>\n",
       "    <tr>\n",
       "      <th>4</th>\n",
       "      <td>5</td>\n",
       "      <td>18</td>\n",
       "      <td>883</td>\n",
       "      <td>156</td>\n",
       "      <td>1</td>\n",
       "      <td>credit_card</td>\n",
       "      <td>2017-03-01 4:35:11</td>\n",
       "    </tr>\n",
       "  </tbody>\n",
       "</table>\n",
       "</div>"
      ],
      "text/plain": [
       "   order_id  shop_id  user_id  order_amount  total_items payment_method  \\\n",
       "0         1       53      746           224            2           cash   \n",
       "1         2       92      925            90            1           cash   \n",
       "2         3       44      861           144            1           cash   \n",
       "3         4       18      935           156            1    credit_card   \n",
       "4         5       18      883           156            1    credit_card   \n",
       "\n",
       "            created_at  \n",
       "0  2017-03-13 12:36:56  \n",
       "1  2017-03-03 17:38:52  \n",
       "2   2017-03-14 4:23:56  \n",
       "3  2017-03-26 12:43:37  \n",
       "4   2017-03-01 4:35:11  "
      ]
     },
     "execution_count": 2,
     "metadata": {},
     "output_type": "execute_result"
    }
   ],
   "source": [
    "# Loading required data and display the head\n",
    "df_sneaker = pd.read_csv('2019 Winter Data Science Intern Challenge Data Set - Sheet1.csv')\n",
    "df_sneaker.head()"
   ]
  },
  {
   "cell_type": "code",
   "execution_count": 3,
   "metadata": {},
   "outputs": [
    {
     "data": {
      "text/plain": [
       "order_id           int64\n",
       "shop_id            int64\n",
       "user_id            int64\n",
       "order_amount       int64\n",
       "total_items        int64\n",
       "payment_method    object\n",
       "created_at        object\n",
       "dtype: object"
      ]
     },
     "execution_count": 3,
     "metadata": {},
     "output_type": "execute_result"
    }
   ],
   "source": [
    "# The datatype of each column\n",
    "df_sneaker.dtypes"
   ]
  },
  {
   "cell_type": "markdown",
   "metadata": {},
   "source": [
    "Problem #1: The variables 'created_at' and 'payment_method' are not in their correct data type. The payment_method should be `category` while created_at should be `datetime`. We could also change the ids into object instead of treating them as numerical."
   ]
  },
  {
   "cell_type": "code",
   "execution_count": 4,
   "metadata": {},
   "outputs": [],
   "source": [
    "# Convert the variables to appropriate data types\n",
    "df_sneaker_clean = (df_sneaker.astype({'order_id': 'object',\n",
    "                                       'shop_id': 'object',\n",
    "                                       'user_id': 'object',\n",
    "                                       'payment_method': 'category',\n",
    "                                       'created_at': 'datetime64'}))"
   ]
  },
  {
   "cell_type": "code",
   "execution_count": 5,
   "metadata": {},
   "outputs": [
    {
     "name": "stdout",
     "output_type": "stream",
     "text": [
      "order_id          0\n",
      "shop_id           0\n",
      "user_id           0\n",
      "order_amount      0\n",
      "total_items       0\n",
      "payment_method    0\n",
      "created_at        0\n",
      "dtype: int64\n"
     ]
    }
   ],
   "source": [
    "# Is there any empty value?\n",
    "print(df_sneaker[df_sneaker.isna()].count())"
   ]
  },
  {
   "cell_type": "code",
   "execution_count": 6,
   "metadata": {},
   "outputs": [],
   "source": [
    "# Define a new function to explore the variables\n",
    "def outlier_analysis(variables=None, data=df_sneaker_clean, log_scale=False, variable_limit=5):\n",
    "    '''\n",
    "    A function to explore a variable from the data source defined by argument'data'. The functi\n",
    "    on will plot a histogram and a box plot for each of the variable specified in argument 'var\n",
    "    -iable' or all the variables in the dataframe specified by argument 'data'.It will also pri\n",
    "    nt the number of outliers in each variable outside the interquartile range (IQR):\n",
    "    \n",
    "    I = [Q_1 - 1.5 * IQR, Q_3 + 1.5 * IQR]\n",
    "    \n",
    "    * IQR is defined as the difference between the third quartile (75% percentile) and the firs\n",
    "    t quartile (25% percentile).\n",
    "    \n",
    "    Args:\n",
    "    variables: A list of strings. The variables to analyze, the function will output analysis f\n",
    "    or all the variables up to the variable_limit number of variables if this argument is set t\n",
    "    o None. Default: None. \n",
    "    data: pd.DataFrame. The dataframe input. Default: df_sneaker_clean.\n",
    "    log_scale: Boolean. Whether to transform the histogram with log scale. Default: False.\n",
    "    variable_limit: Integer. The upper limit for the number of variables displayed. Default: 5\n",
    "    \n",
    "    Returns:\n",
    "    None\n",
    "    '''\n",
    "    \n",
    "    # Define the figure size for histogram and boxplot\n",
    "    if variables == None:\n",
    "        variables = list(data.select_dtypes([np.number]).columns) # Column names of numerical columns in the dataframe\n",
    "    limit = min(len(variables), variable_limit)\n",
    "    fig = plt.figure(figsize=(20, 10))\n",
    "    axes = fig.subplots(limit, 2, squeeze=False)\n",
    "    # Iterate over the list of variable names to plot and print the outlier statistics\n",
    "    for i, var in enumerate(variables):\n",
    "        # Histogram\n",
    "        axes[i, 0].hist(var, bins=30, data=data, log=log_scale)\n",
    "        axes[i, 0].set_title('The histogram of {}'.format(var))\n",
    "        axes[i, 0].set_xlabel(var)\n",
    "        if log_scale:\n",
    "            axes[i, 0].set_ylabel('log(frequency)')\n",
    "        # Box plot\n",
    "        axes[i, 1].boxplot(var, data=data)\n",
    "        axes[i, 1].set_title('The boxplot of {}'.format(var))\n",
    "        axes[i, 1].set_xlabel(var)\n",
    "        # Number of outliers\n",
    "        q1 = data[var].quantile(0.25)\n",
    "        q3 = data[var].quantile(0.75)\n",
    "        iqr = q3 - q1\n",
    "        lower_limit = q1 - 1.5 * iqr\n",
    "        upper_limit = q3 + 1.5 * iqr\n",
    "        print(\"The number of outliers in {} is: {}\".format(var, (1-data[var].between(lower_limit, upper_limit)).sum()))\n",
    "        if i == limit-1:\n",
    "            break\n",
    "        "
   ]
  },
  {
   "cell_type": "code",
   "execution_count": 7,
   "metadata": {},
   "outputs": [
    {
     "name": "stdout",
     "output_type": "stream",
     "text": [
      "The number of outliers in order_amount is: 141\n",
      "The number of outliers in total_items is: 18\n"
     ]
    },
    {
     "data": {
      "image/png": "[encoded data removed]",
      "text/plain": [
       "<Figure size 1440x720 with 4 Axes>"
      ]
     },
     "metadata": {
      "needs_background": "light"
     },
     "output_type": "display_data"
    }
   ],
   "source": [
    "outlier_analysis(log_scale=True)"
   ]
  },
  {
   "cell_type": "markdown",
   "metadata": {},
   "source": [
    "From the above plot, there are around 20 orders in the 30 day window that have order amounts at around 700000, which seriously distorted the mean value, resulting in the unrealistic AOV value of 3145 per order.\n",
    "\n",
    "Additionally, another interesting finding is that the distribution of `order_amount` is not synchronized with that of `total_items`. The majority of `total_items` lies within 200, and there are 18 outliers in total. However, the `order_amount` has observed 123 more outliers than the the `order_amount`. If we assume the shop only sold sneakers in the \"affordable\" price range, the distribution of the two variables should be more closely synchronized with each other. By creating a new variable `unit_price`, we should be able to understand the reason for this behaviour."
   ]
  },
  {
   "cell_type": "code",
   "execution_count": 8,
   "metadata": {},
   "outputs": [],
   "source": [
    "# New variable \"unit_price\"\n",
    "df_sneaker_clean['unit_price'] = df_sneaker_clean['order_amount'] / df_sneaker_clean['total_items']"
   ]
  },
  {
   "cell_type": "code",
   "execution_count": 9,
   "metadata": {},
   "outputs": [
    {
     "name": "stdout",
     "output_type": "stream",
     "text": [
      "The number of outliers in unit_price is: 97\n"
     ]
    },
    {
     "data": {
      "image/png": "[encoded data removed]",
      "text/plain": [
       "<Figure size 1440x720 with 2 Axes>"
      ]
     },
     "metadata": {
      "needs_background": "light"
     },
     "output_type": "display_data"
    }
   ],
   "source": [
    "outlier_analysis(variables = ['unit_price'], log_scale=True)"
   ]
  },
  {
   "cell_type": "code",
   "execution_count": 10,
   "metadata": {},
   "outputs": [],
   "source": [
    "# What are the orders that have outlying unit_price\n",
    "q1_up = df_sneaker_clean['unit_price'].quantile(0.25)\n",
    "q3_up = df_sneaker_clean['unit_price'].quantile(0.75)\n",
    "iqr_up = q3_up - q1_up\n",
    "lower_limit_up = q1_up - 1.5 * iqr_up\n",
    "upper_limit_up = q3_up + 1.5 * iqr_up\n",
    "df_sneakers_price_anomaly = df_sneaker_clean[(1 - df_sneaker_clean['unit_price'].between(lower_limit_up, upper_limit_up)).astype('bool')]"
   ]
  },
  {
   "cell_type": "code",
   "execution_count": 11,
   "metadata": {},
   "outputs": [
    {
     "data": {
      "text/plain": [
       "unit_price\n",
       "352.0      51\n",
       "25725.0    46\n",
       "dtype: int64"
      ]
     },
     "execution_count": 11,
     "metadata": {},
     "output_type": "execute_result"
    }
   ],
   "source": [
    "# The number of orders\n",
    "df_sneakers_price_anomaly.groupby('unit_price').size()"
   ]
  },
  {
   "cell_type": "code",
   "execution_count": 12,
   "metadata": {},
   "outputs": [
    {
     "name": "stdout",
     "output_type": "stream",
     "text": [
      "The shop(s) that sold $25725 sneaker is(are): shop number [78]\n"
     ]
    }
   ],
   "source": [
    "# The shop that sold the ultra expensive sneaker\n",
    "price_anomaly_shop_id = df_sneakers_price_anomaly[df_sneakers_price_anomaly['unit_price'] == 25725].shop_id.unique()\n",
    "print(\"The shop(s) that sold $25725 sneaker is(are): shop number {}\".format(price_anomaly_shop_id))"
   ]
  },
  {
   "cell_type": "markdown",
   "metadata": {},
   "source": [
    "There are 97 total outliers in the unit price variable, among which there is 46 orders with a whopping \\$25725 unit price, which is extremely unlikely for regular sneakers in shops. In further investigation, all these shoes with extraordinary unit price are sold in one store only. There are two possibilities regarding this anomaly:\n",
    "1. Store 78 has encountered system error and the order values they recorded in the period observed in the dataset are not correctly recorded due to some system error or human errors.\n",
    "2. Store 78 is a store that specializes in selling ultra high value sneakers.\n",
    "3. The price of store 78 is listed in a foreign currency and has not been converted to dollars.\n",
    "\n",
    "However, considering the frequency of these transaction (46 orders within 30 days), it is highly unlikely that the price anomaly being the result from the second circumstance. It is advised to further investigate the reason for this anomaly from the store's end."
   ]
  },
  {
   "cell_type": "code",
   "execution_count": 13,
   "metadata": {},
   "outputs": [
    {
     "data": {
      "text/html": [
       "<div>\n",
       "<style scoped>\n",
       "    .dataframe tbody tr th:only-of-type {\n",
       "        vertical-align: middle;\n",
       "    }\n",
       "\n",
       "    .dataframe tbody tr th {\n",
       "        vertical-align: top;\n",
       "    }\n",
       "\n",
       "    .dataframe thead th {\n",
       "        text-align: right;\n",
       "    }\n",
       "</style>\n",
       "<table border=\"1\" class=\"dataframe\">\n",
       "  <thead>\n",
       "    <tr style=\"text-align: right;\">\n",
       "      <th></th>\n",
       "      <th>order_amount</th>\n",
       "      <th>total_items</th>\n",
       "      <th>unit_price</th>\n",
       "    </tr>\n",
       "  </thead>\n",
       "  <tbody>\n",
       "    <tr>\n",
       "      <th>count</th>\n",
       "      <td>5000.000000</td>\n",
       "      <td>5000.00000</td>\n",
       "      <td>5000.000000</td>\n",
       "    </tr>\n",
       "    <tr>\n",
       "      <th>mean</th>\n",
       "      <td>3145.128000</td>\n",
       "      <td>8.78720</td>\n",
       "      <td>387.742800</td>\n",
       "    </tr>\n",
       "    <tr>\n",
       "      <th>std</th>\n",
       "      <td>41282.539349</td>\n",
       "      <td>116.32032</td>\n",
       "      <td>2441.963725</td>\n",
       "    </tr>\n",
       "    <tr>\n",
       "      <th>min</th>\n",
       "      <td>90.000000</td>\n",
       "      <td>1.00000</td>\n",
       "      <td>90.000000</td>\n",
       "    </tr>\n",
       "    <tr>\n",
       "      <th>25%</th>\n",
       "      <td>163.000000</td>\n",
       "      <td>1.00000</td>\n",
       "      <td>133.000000</td>\n",
       "    </tr>\n",
       "    <tr>\n",
       "      <th>50%</th>\n",
       "      <td>284.000000</td>\n",
       "      <td>2.00000</td>\n",
       "      <td>153.000000</td>\n",
       "    </tr>\n",
       "    <tr>\n",
       "      <th>75%</th>\n",
       "      <td>390.000000</td>\n",
       "      <td>3.00000</td>\n",
       "      <td>169.000000</td>\n",
       "    </tr>\n",
       "    <tr>\n",
       "      <th>max</th>\n",
       "      <td>704000.000000</td>\n",
       "      <td>2000.00000</td>\n",
       "      <td>25725.000000</td>\n",
       "    </tr>\n",
       "  </tbody>\n",
       "</table>\n",
       "</div>"
      ],
      "text/plain": [
       "        order_amount  total_items    unit_price\n",
       "count    5000.000000   5000.00000   5000.000000\n",
       "mean     3145.128000      8.78720    387.742800\n",
       "std     41282.539349    116.32032   2441.963725\n",
       "min        90.000000      1.00000     90.000000\n",
       "25%       163.000000      1.00000    133.000000\n",
       "50%       284.000000      2.00000    153.000000\n",
       "75%       390.000000      3.00000    169.000000\n",
       "max    704000.000000   2000.00000  25725.000000"
      ]
     },
     "execution_count": 13,
     "metadata": {},
     "output_type": "execute_result"
    }
   ],
   "source": [
    "# Distribution of each column\n",
    "df_sneaker_clean.describe()"
   ]
  },
  {
   "cell_type": "markdown",
   "metadata": {},
   "source": [
    "## Answer to Question 1 <a name=\"q1answers\"></a>\n",
    "\n",
    "- What metric would you report for this dataset and what's its value?\n",
    "\n",
    "    According to the summary statistics, there are clearly some outliers that distorted the distribution. The largest order amount is several orders of magnitude larger than the orders in the normal range. This is the reason why mean is not an appropriate metric for evaluating average order value (AOV), as **mean is not resistant to outliers** and presents a misleading view on the overall performance of the store sales revenue. Instead, the store should use median as the evaluation metrics, which is outlier resistant and could reflect the general characteristics of the orders. Under the new metrics, the AOV of the `order_amount` is $284."
   ]
  },
  {
   "cell_type": "markdown",
   "metadata": {},
   "source": [
    "## Question 2 - SQL queries <a name=\"q2answers\"></a>"
   ]
  },
  {
   "cell_type": "markdown",
   "metadata": {},
   "source": [
    "**1. How many orders were shipped by Speedy Express in total?**\n",
    "\n",
    "SQL Query:\n",
    "```mysql\n",
    "SELECT Shippers.ShipperName, COUNT(*) AS total_orders\n",
    "FROM Orders\n",
    "LEFT JOIN Shippers\n",
    "ON Orders.ShipperID = Shippers.ShipperID\n",
    "WHERE Shippers.ShipperName == \"Speedy Express\";\n",
    "```\n",
    "\n",
    "Result:\n",
    "\n",
    "| ShipperName    | total_orders | \n",
    "|---|---|\n",
    "| Speedy Express | 54           |\n",
    "\n",
    "Speedy Express has shipped 54 orders in total.\n",
    "\n",
    "**2. What is the last name of the employee with the most orders?**\n",
    "SQL Query:\n",
    "```mysql\n",
    "SELECT Employees.LastName, COUNT(*) as total_orders\n",
    "FROM Orders\n",
    "LEFT JOIN Employees\n",
    "ON Orders.EmployeeID = Employees.EmployeeID\n",
    "GROUP BY Employees.employeeid\n",
    "ORDER BY total_orders DESC\n",
    "LIMIT 1;\n",
    "```\n",
    "\n",
    "Result:\n",
    "\n",
    "| LastName    | total_orders | \n",
    "|---|---|\n",
    "| Peacock | 40           |\n",
    "\n",
    "The employee with last name \"Peacock\" has shipped the most orders, standing at 40 orders in total.\n",
    "\n",
    "**3. What product was ordered the most by customers in Germany?**\n",
    "SQL Query:\n",
    "```mysql\n",
    "SELECT Products.ProductName, SUM(Orderdetails.Quantity) as total_quantity, Customers.Country\n",
    "FROM Orderdetails\n",
    "LEFT JOIN Orders\n",
    "ON Orderdetails.OrderID = Orders.OrderID\n",
    "LEFT JOIN Products\n",
    "ON Orderdetails.ProductID = Products.ProductID\n",
    "LEFT JOIN Customers\n",
    "ON Orders.CustomerID = Customers.CustomerID\n",
    "WHERE Customers.Country = 'Germany'\n",
    "GROUP BY Products.ProductName\n",
    "ORDER BY total_quantity DESC\n",
    "LIMIT 1;\n",
    "```\n",
    "\n",
    "Results:\n",
    "\n",
    "| ProductName      | total_quantity | Country |\n",
    "|------------------|----------------|---------|\n",
    "| Boston Crab Meat | 160            | Germany |\n",
    "\n",
    "The product that was ordered most by customers in Germany is Boston Crab Meat and the total quantity is 160.\n"
   ]
  }
 ],
 "metadata": {
  "kernelspec": {
   "display_name": "Python 3",
   "language": "python",
   "name": "python3"
  },
  "language_info": {
   "codemirror_mode": {
    "name": "ipython",
    "version": 3
   },
   "file_extension": ".py",
   "mimetype": "text/x-python",
   "name": "python",
   "nbconvert_exporter": "python",
   "pygments_lexer": "ipython3",
   "version": "3.7.7"
  }
 },
 "nbformat": 4,
 "nbformat_minor": 4
}
